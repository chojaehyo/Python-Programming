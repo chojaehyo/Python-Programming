{
 "cells": [
  {
   "cell_type": "markdown",
   "id": "f87dc69e",
   "metadata": {},
   "source": [
    "#### - 주변에 있는 지뢰의 개수 반환하기"
   ]
  },
  {
   "cell_type": "markdown",
   "id": "cc5bbbe7",
   "metadata": {},
   "source": [
    "#### option 1 "
   ]
  },
  {
   "cell_type": "code",
   "execution_count": 1,
   "id": "e53205bc",
   "metadata": {},
   "outputs": [
    {
     "name": "stdout",
     "output_type": "stream",
     "text": [
      "5 5\n",
      "*...*\n",
      "...**\n",
      "*..**\n",
      "..*.*\n",
      "**...\n",
      "*113*\n",
      "222**\n",
      "*23**\n",
      "34*4*\n",
      "**221\n"
     ]
    }
   ],
   "source": [
    "# 1. 입력\n",
    "col, row = map(int, input().split())\n",
    "\n",
    "# 2. 지뢰 입력받기\n",
    "matrix = []\n",
    "for i in range(row):\n",
    "    matrix.append(list(input()))\n",
    "# 2. 지뢰없는것을 중심으로 주변에 몇개의 지뢰가 있는지 판단하는 코드\n",
    "for r in range(row):\n",
    "    for c in range(col):\n",
    "        if matrix[r][c] =='*':\n",
    "            print(matrix[r][c], sep='', end='')\n",
    "        else:\n",
    "            cnt = 0\n",
    "            for r_ud in range(-1, 2):\n",
    "                for c_lr in range(-1, 2):\n",
    "                    if 0 <= r + r_ud < row and 0 <= c + c_lr < col and matrix[r+r_ud][c+c_lr] == '*':\n",
    "                        cnt += 1\n",
    "            print(cnt, sep='', end='')\n",
    "    print()"
   ]
  },
  {
   "cell_type": "markdown",
   "id": "aa55b50f",
   "metadata": {},
   "source": [
    "#### option 2"
   ]
  },
  {
   "cell_type": "code",
   "execution_count": 5,
   "id": "c75618e5",
   "metadata": {},
   "outputs": [
    {
     "name": "stdout",
     "output_type": "stream",
     "text": [
      "5 5\n",
      "*...*\n",
      "...**\n",
      "*..**\n",
      "..*.*\n",
      "**...\n",
      "*113*\n",
      "222**\n",
      "*23**\n",
      "34*4*\n",
      "**221\n"
     ]
    }
   ],
   "source": [
    "# 1. 입력\n",
    "cols, rows = map(int, input().split())\n",
    "\n",
    "# 2. 행의 수 만큼 지뢰(* or .) 입력 받기\n",
    "matrix = []\n",
    "for i in range(rows):\n",
    "    matrix.append(list(input()))\n",
    "\n",
    "# 3. matrix에 *는 그대로 두고, *가 아니면 0으로 초기화\n",
    "for i in range(rows):\n",
    "    for j in range(cols):\n",
    "        if matrix[i][j] == '*':\n",
    "            continue\n",
    "        else:\n",
    "            matrix[i][j] = 0 \n",
    "            \n",
    "# 4\n",
    "#matrix 내의 '.'요소에 대해(*제외) 주변 8개 탐색 (*이면 요소 값을 1씩 증가)\n",
    "#주변 요소를 탐색할때는 range에 시작하는 값을 i-1, 끝나는 값을 i+2\n",
    "#옆으로 탐색할 때는 range의 시작값을 j-1, j+2 <--마지막 값은 포함 안되므로\n",
    "\n",
    "#단 주변요소를 탐색할 때 리트트의 범위를 벗어나면 건너뛰어야함\n",
    "#참고로 2차원 리스트 반복할 때 요소값만으로는(인덱스 없이는) 주변 탐색 불가\n",
    "#따라서 enumerate 사용 권장\n",
    "\n",
    "for i, row in enumerate(matrix):\n",
    "    for j, col in enumerate(row):\n",
    "        if col == '*':\n",
    "            continue\n",
    "        else:\n",
    "            for y in range(i-1, i+2):\n",
    "                for x in range(j-1, j+2):\n",
    "                    if (y<0 or x<0 or y>=rows or x>=cols ):\n",
    "                        continue\n",
    "                    else:\n",
    "                        #이 부분이 중요 (값을 더하는 index는 i,j)\n",
    "                        if matrix[y][x] == '*':\n",
    "                            matrix[i][j] += 1\n",
    "\n",
    "for i in matrix:\n",
    "    for j in i:\n",
    "        print(j, sep='', end='')\n",
    "    print()"
   ]
  },
  {
   "cell_type": "markdown",
   "id": "76ce17fb",
   "metadata": {},
   "source": [
    "#### option 3 "
   ]
  },
  {
   "cell_type": "code",
   "execution_count": 6,
   "id": "6656cc88",
   "metadata": {},
   "outputs": [
    {
     "name": "stdout",
     "output_type": "stream",
     "text": [
      "3 3\n",
      "*..\n",
      ".**\n",
      "..*\n",
      "출력\n",
      "*32\n",
      "2**\n",
      "13*\n"
     ]
    }
   ],
   "source": [
    "matrix=[]\n",
    "col,row = map(int,input().split())\n",
    "for i in range(row):\n",
    "    matrix.append(list(input()))\n",
    "\n",
    "d=[[-1,-1],[-1,0],[-1,1],[0,-1],[0,1],[1,-1],[1,0],[1,1]] #chk할 방향 상대 경로\n",
    "\n",
    "for i in range(row):\n",
    "    for j in range(col):\n",
    "        if matrix[i][j] =='*':\n",
    "            for x,y in d:\n",
    "                if 0<= i+x <row and 0<= j+y <col: \n",
    "                    if matrix[i+x][j+y] == '.': matrix[i+x][j+y] = 1\n",
    "                    elif matrix[i+x][j+y] != '*': matrix[i+x][j+y] += 1\n",
    "\n",
    "print('출력')\n",
    "for i in matrix:\n",
    "    for j in i:\n",
    "        print(j,end='')\n",
    "    print()"
   ]
  },
  {
   "cell_type": "markdown",
   "id": "588c75ff",
   "metadata": {},
   "source": [
    "#### - 주어진 문자열에서 the의 개수를 출력하는 프로그램"
   ]
  },
  {
   "cell_type": "code",
   "execution_count": 11,
   "id": "16e48c52",
   "metadata": {},
   "outputs": [
    {
     "name": "stdout",
     "output_type": "stream",
     "text": [
      "the grown-ups' response, this time, was to advise me to lay aside my drawings of boa constrictors, whether from the inside or the outside, and devote myself instead to geography, history, arithmetic, and grammar. That is why, at the, age of six, I gave up what might have been a magnificent career as a painter. I had been disheartened by the failure of my Drawing Number One and my Drawing Number Two. Grown-ups never understand anything by themselves, and it is tiresome for children to be always and forever explaining things to the.\n",
      "6\n"
     ]
    }
   ],
   "source": [
    "paragraph = input()\n",
    "words = paragraph.split()\n",
    "\n",
    "count = 0\n",
    "for i in words:\n",
    "    if i.strip(\",.\") == 'the':\n",
    "        count += 1\n",
    "        \n",
    "print(count)       "
   ]
  },
  {
   "cell_type": "markdown",
   "id": "dee6e913",
   "metadata": {},
   "source": [
    "#### - 가격 포매팅해서 출력하는 프로그램"
   ]
  },
  {
   "cell_type": "code",
   "execution_count": 13,
   "id": "570b9ce1",
   "metadata": {},
   "outputs": [
    {
     "name": "stdout",
     "output_type": "stream",
     "text": [
      "51900;83000;158000;367500;250000;59200;128500;1304000\n"
     ]
    }
   ],
   "source": [
    "prices  = list(map(int, input().split(';')))"
   ]
  },
  {
   "cell_type": "code",
   "execution_count": 14,
   "id": "3a382c40",
   "metadata": {},
   "outputs": [
    {
     "data": {
      "text/plain": [
       "[51900, 83000, 158000, 367500, 250000, 59200, 128500, 1304000]"
      ]
     },
     "execution_count": 14,
     "metadata": {},
     "output_type": "execute_result"
    }
   ],
   "source": [
    "prices"
   ]
  },
  {
   "cell_type": "markdown",
   "id": "52506998",
   "metadata": {},
   "source": [
    "#### - 내림차순 정렬"
   ]
  },
  {
   "cell_type": "code",
   "execution_count": 17,
   "id": "5a901071",
   "metadata": {},
   "outputs": [],
   "source": [
    "prices.sort(reverse = True)  # prices = sorted(prices, reverse = True)"
   ]
  },
  {
   "cell_type": "code",
   "execution_count": 21,
   "id": "01f938b9",
   "metadata": {},
   "outputs": [
    {
     "name": "stdout",
     "output_type": "stream",
     "text": [
      "1,304,000\n",
      "  367,500\n",
      "  250,000\n",
      "  158,000\n",
      "  128,500\n",
      "   83,000\n",
      "   59,200\n",
      "   51,900\n"
     ]
    }
   ],
   "source": [
    "for price in prices:\n",
    "    print('{0:>9,}'.format(price)) # 천단위에 쉼표 찍기\n",
    "    #print('%9s' % format(price, ','))"
   ]
  },
  {
   "cell_type": "markdown",
   "id": "8a3154e6",
   "metadata": {},
   "source": [
    "#### - n으로 길이를 맞출 때"
   ]
  },
  {
   "cell_type": "code",
   "execution_count": 41,
   "id": "54c20076",
   "metadata": {},
   "outputs": [
    {
     "name": "stdout",
     "output_type": "stream",
     "text": [
      "1,304,000\n",
      "  367,500\n",
      "  250,000\n",
      "  158,000\n",
      "  128,500\n",
      "   83,000\n",
      "   59,200\n",
      "   51,900\n"
     ]
    }
   ],
   "source": [
    "n = 9\n",
    "for price in prices:\n",
    "    print('{0:>{1},}'.format(price, n)) \n",
    "    #print('%9s' % format(price, ','))"
   ]
  },
  {
   "cell_type": "markdown",
   "id": "9f8981ff",
   "metadata": {},
   "source": [
    "#### - 전체 길이 가변적으로 적용 1"
   ]
  },
  {
   "cell_type": "code",
   "execution_count": 49,
   "id": "04f61e7f",
   "metadata": {},
   "outputs": [
    {
     "name": "stdout",
     "output_type": "stream",
     "text": [
      "51900;83000;158000;367500;250000;59200;128500;1304000\n",
      "1,304,000\n",
      "  367,500\n",
      "  250,000\n",
      "  158,000\n",
      "  128,500\n",
      "   83,000\n",
      "   59,200\n",
      "   51,900\n"
     ]
    }
   ],
   "source": [
    "s = map(int, input().split(\";\"))\n",
    "s = sorted(s, reverse=True)\n",
    "n = 0\n",
    "temp = s[0]\n",
    "while temp // 1000 > 0: # 천자리 확인\n",
    "    n += 1\n",
    "    temp = temp // 1000 # 뒤 천자리 버리기\n",
    "\n",
    "n += len(str(s[0]))\n",
    "for i in s:\n",
    "    print('{0:>{1},}'.format(i, n))"
   ]
  },
  {
   "cell_type": "markdown",
   "id": "4059eecc",
   "metadata": {},
   "source": [
    "#### -전체 길이 가변적으로 적용 2 "
   ]
  },
  {
   "cell_type": "code",
   "execution_count": null,
   "id": "eafcda3a",
   "metadata": {},
   "outputs": [],
   "source": [
    "s = map(int, input().split(\";\"))\n",
    "s = sorted(s, reverse=True)\n",
    "\n",
    "maxlen = len(str(s[0]))\n",
    "n = maxlen // 3     \n",
    "if maxlen == 3*n:   # ex)100 일경우 ,가 안붙기때문에\n",
    "    n -= 1          \n",
    "n += maxlen\n",
    "\n",
    "for i in s:\n",
    "    print('{0:>{1},}'.format(i, n))"
   ]
  },
  {
   "cell_type": "markdown",
   "id": "650000d9",
   "metadata": {},
   "source": [
    "#### - 1000자리 끊어주는 코드 (파이썬 내장 기능 사용 안함)"
   ]
  },
  {
   "cell_type": "code",
   "execution_count": 8,
   "id": "e432a9b4",
   "metadata": {},
   "outputs": [
    {
     "name": "stdout",
     "output_type": "stream",
     "text": [
      "51900;83000;158000;367500;250000;59200;128500;1304000\n",
      "1,304,000\n",
      "  367,500\n",
      "  250,000\n",
      "  158,000\n",
      "  128,500\n",
      "   83,000\n",
      "   59,200\n",
      "   51,900\n"
     ]
    }
   ],
   "source": [
    "l = list(map(int, input().split(';')))  \n",
    "l.sort(reverse=True)    # 정렬\n",
    "l = map(str, l)         # string으로 변환\n",
    "result = []\n",
    "\n",
    "for i in l:\n",
    "    temp = \"\"\n",
    "    while len(i) >= 4:      # 천자리마다\n",
    "        temp = \",\"+ i[-3:] + temp\n",
    "        i = i[:-3]          # 다음 천자리 확인\n",
    "    temp = i + temp\n",
    "    result.append(temp)     # , 붙인 문자열 저장\n",
    "\n",
    "maxlen = len(result[0])\n",
    "for i in result:\n",
    "    print('{0:>{1}}'.format(i, maxlen))"
   ]
  },
  {
   "cell_type": "markdown",
   "id": "2ba48abc",
   "metadata": {},
   "source": [
    "#### - 딕셔너리"
   ]
  },
  {
   "cell_type": "code",
   "execution_count": 61,
   "id": "9a2b1fe7",
   "metadata": {},
   "outputs": [
    {
     "data": {
      "text/plain": [
       "{'a': None, 'b': None, 'c': None, 'd': None}"
      ]
     },
     "execution_count": 61,
     "metadata": {},
     "output_type": "execute_result"
    }
   ],
   "source": [
    "keys = ['a', 'b', 'c', 'd']\n",
    "x = dict.fromkeys(keys)\n",
    "x"
   ]
  },
  {
   "cell_type": "code",
   "execution_count": 54,
   "id": "9865ee7e",
   "metadata": {},
   "outputs": [
    {
     "data": {
      "text/plain": [
       "[10, 20, 30]"
      ]
     },
     "execution_count": 54,
     "metadata": {},
     "output_type": "execute_result"
    }
   ],
   "source": [
    "a = [10, 20, 30]\n",
    "[i for i in a]"
   ]
  },
  {
   "cell_type": "code",
   "execution_count": 59,
   "id": "1b5337c8",
   "metadata": {},
   "outputs": [
    {
     "data": {
      "text/plain": [
       "{'a': None, 'b': None, 'c': None, 'd': None}"
      ]
     },
     "execution_count": 59,
     "metadata": {},
     "output_type": "execute_result"
    }
   ],
   "source": [
    "{key:value for key, value in x.items()}"
   ]
  },
  {
   "cell_type": "code",
   "execution_count": 57,
   "id": "61320cfe",
   "metadata": {
    "scrolled": true
   },
   "outputs": [
    {
     "data": {
      "text/plain": [
       "{'a': 0, 'b': 0, 'c': 0, 'd': 0}"
      ]
     },
     "execution_count": 57,
     "metadata": {},
     "output_type": "execute_result"
    }
   ],
   "source": [
    "{key:0 for key in x.keys()}"
   ]
  },
  {
   "cell_type": "code",
   "execution_count": 64,
   "id": "f8773722",
   "metadata": {},
   "outputs": [
    {
     "data": {
      "text/plain": [
       "{10: 0, 20: 0, 30: 0, 40: 0}"
      ]
     },
     "execution_count": 64,
     "metadata": {},
     "output_type": "execute_result"
    }
   ],
   "source": [
    "x2 = {'a':10, 'b':20, 'c':30, 'd':40}\n",
    "\n",
    "{value:0 for value in x2.values()}"
   ]
  },
  {
   "cell_type": "code",
   "execution_count": 65,
   "id": "9d5833c4",
   "metadata": {},
   "outputs": [
    {
     "data": {
      "text/plain": [
       "{10: 'a', 20: 'b', 30: 'c', 40: 'd'}"
      ]
     },
     "execution_count": 65,
     "metadata": {},
     "output_type": "execute_result"
    }
   ],
   "source": [
    "x2 = {'a':10, 'b':20, 'c':30, 'd':40}\n",
    "\n",
    "{value:key for key, value in x2.items()}"
   ]
  },
  {
   "cell_type": "code",
   "execution_count": 69,
   "id": "6a59377c",
   "metadata": {
    "scrolled": true
   },
   "outputs": [
    {
     "ename": "RuntimeError",
     "evalue": "dictionary changed size during iteration",
     "output_type": "error",
     "traceback": [
      "\u001b[1;31m---------------------------------------------------------------------------\u001b[0m",
      "\u001b[1;31mRuntimeError\u001b[0m                              Traceback (most recent call last)",
      "\u001b[1;32m<ipython-input-69-3df23449fec5>\u001b[0m in \u001b[0;36m<module>\u001b[1;34m\u001b[0m\n\u001b[0;32m      1\u001b[0m \u001b[0mx2\u001b[0m \u001b[1;33m=\u001b[0m \u001b[1;33m{\u001b[0m\u001b[1;34m'a'\u001b[0m\u001b[1;33m:\u001b[0m\u001b[1;36m10\u001b[0m\u001b[1;33m,\u001b[0m \u001b[1;34m'b'\u001b[0m\u001b[1;33m:\u001b[0m\u001b[1;36m20\u001b[0m\u001b[1;33m,\u001b[0m \u001b[1;34m'c'\u001b[0m\u001b[1;33m:\u001b[0m\u001b[1;36m30\u001b[0m\u001b[1;33m,\u001b[0m \u001b[1;34m'd'\u001b[0m\u001b[1;33m:\u001b[0m\u001b[1;36m40\u001b[0m\u001b[1;33m}\u001b[0m\u001b[1;33m\u001b[0m\u001b[1;33m\u001b[0m\u001b[0m\n\u001b[0;32m      2\u001b[0m \u001b[1;33m\u001b[0m\u001b[0m\n\u001b[1;32m----> 3\u001b[1;33m \u001b[1;32mfor\u001b[0m \u001b[0mkey\u001b[0m\u001b[1;33m,\u001b[0m \u001b[0mvalue\u001b[0m \u001b[1;32min\u001b[0m \u001b[0mx2\u001b[0m\u001b[1;33m.\u001b[0m\u001b[0mitems\u001b[0m\u001b[1;33m(\u001b[0m\u001b[1;33m)\u001b[0m\u001b[1;33m:\u001b[0m\u001b[1;33m\u001b[0m\u001b[1;33m\u001b[0m\u001b[0m\n\u001b[0m\u001b[0;32m      4\u001b[0m     \u001b[1;32mif\u001b[0m \u001b[0mvalue\u001b[0m \u001b[1;33m==\u001b[0m \u001b[1;36m20\u001b[0m\u001b[1;33m:\u001b[0m\u001b[1;33m\u001b[0m\u001b[1;33m\u001b[0m\u001b[0m\n\u001b[0;32m      5\u001b[0m         \u001b[1;32mdel\u001b[0m \u001b[0mx2\u001b[0m\u001b[1;33m[\u001b[0m\u001b[0mkey\u001b[0m\u001b[1;33m]\u001b[0m\u001b[1;33m\u001b[0m\u001b[1;33m\u001b[0m\u001b[0m\n",
      "\u001b[1;31mRuntimeError\u001b[0m: dictionary changed size during iteration"
     ]
    }
   ],
   "source": [
    "# 문제가 생기는 예\n",
    "x2 = {'a':10, 'b':20, 'c':30, 'd':40}\n",
    "\n",
    "for key, value in x2.items():\n",
    "    if value == 20:\n",
    "        del x2[key]\n",
    "        \n",
    "print(x2)        "
   ]
  },
  {
   "cell_type": "code",
   "execution_count": 70,
   "id": "8c37f802",
   "metadata": {},
   "outputs": [
    {
     "data": {
      "text/plain": [
       "{'a': 10, 'c': 30, 'd': 40}"
      ]
     },
     "execution_count": 70,
     "metadata": {},
     "output_type": "execute_result"
    }
   ],
   "source": [
    "x2 = {'a':10, 'b':20, 'c':30, 'd':40}\n",
    "x2 ={key:value for key, value in x2.items() if value != 20}\n",
    "x2"
   ]
  },
  {
   "cell_type": "code",
   "execution_count": 73,
   "id": "46fc4d7e",
   "metadata": {},
   "outputs": [],
   "source": [
    "x = {'a' : {'python' :'2.7'}, 'b': {'python' :'3.8'}}\n",
    "y = x.copy()"
   ]
  },
  {
   "cell_type": "code",
   "execution_count": null,
   "id": "ca9ccd43",
   "metadata": {},
   "outputs": [],
   "source": [
    "# 한번 색인했을 경우 (동작함)"
   ]
  },
  {
   "cell_type": "code",
   "execution_count": 82,
   "id": "645ab0e3",
   "metadata": {},
   "outputs": [],
   "source": [
    "y['a'] = {'java' :'xxx'}"
   ]
  },
  {
   "cell_type": "code",
   "execution_count": 83,
   "id": "d96d2c98",
   "metadata": {},
   "outputs": [
    {
     "data": {
      "text/plain": [
       "({'a': {'python': '2.7'}, 'b': {'python': '3.8'}},\n",
       " {'a': {'java': 'xxx'}, 'b': {'python': '3.8'}})"
      ]
     },
     "execution_count": 83,
     "metadata": {},
     "output_type": "execute_result"
    }
   ],
   "source": [
    "x, y"
   ]
  },
  {
   "cell_type": "code",
   "execution_count": null,
   "id": "a84cdfa1",
   "metadata": {},
   "outputs": [],
   "source": [
    "# 두번 색인했을 경우 (얕은 카피라 두 객체가 독립적으로 동작을 안함)"
   ]
  },
  {
   "cell_type": "code",
   "execution_count": 88,
   "id": "9f4ac650",
   "metadata": {},
   "outputs": [],
   "source": [
    "x = {'a' : {'python' :'2.7'}, 'b': {'python' :'3.8'}}\n",
    "y = x.copy()\n",
    "y['b']['python'] =\"3.8.8\""
   ]
  },
  {
   "cell_type": "code",
   "execution_count": 89,
   "id": "00f621ba",
   "metadata": {},
   "outputs": [
    {
     "data": {
      "text/plain": [
       "({'a': {'python': '2.7'}, 'b': {'python': '3.8.8'}},\n",
       " {'a': {'python': '2.7'}, 'b': {'python': '3.8.8'}})"
      ]
     },
     "execution_count": 89,
     "metadata": {},
     "output_type": "execute_result"
    }
   ],
   "source": [
    "x, y"
   ]
  },
  {
   "cell_type": "code",
   "execution_count": 79,
   "id": "f730ddca",
   "metadata": {},
   "outputs": [],
   "source": [
    "import copy\n",
    "x = {'a' : {'python' :'2.7'}, 'b': {'python' :'3.8'}}\n",
    "y = copy.deepcopy(x)"
   ]
  },
  {
   "cell_type": "code",
   "execution_count": 80,
   "id": "2fef6243",
   "metadata": {},
   "outputs": [],
   "source": [
    "y['a']['python'] = '2.7.15'"
   ]
  },
  {
   "cell_type": "code",
   "execution_count": 81,
   "id": "e6147571",
   "metadata": {},
   "outputs": [
    {
     "data": {
      "text/plain": [
       "({'a': {'python': '2.7'}, 'b': {'python': '3.8'}},\n",
       " {'a': {'python': '2.7.15'}, 'b': {'python': '3.8'}})"
      ]
     },
     "execution_count": 81,
     "metadata": {},
     "output_type": "execute_result"
    }
   ],
   "source": [
    "x, y"
   ]
  },
  {
   "cell_type": "markdown",
   "id": "a19227b5",
   "metadata": {},
   "source": [
    "#### - 평균 점수 구하기"
   ]
  },
  {
   "cell_type": "code",
   "execution_count": 90,
   "id": "c9a8fc17",
   "metadata": {},
   "outputs": [],
   "source": [
    "maria = {'korean' : 94, 'english': 91, 'mathmatics': 89, 'science': 83 }"
   ]
  },
  {
   "cell_type": "code",
   "execution_count": 94,
   "id": "4f16aa25",
   "metadata": {},
   "outputs": [
    {
     "data": {
      "text/plain": [
       "89.25"
      ]
     },
     "execution_count": 94,
     "metadata": {},
     "output_type": "execute_result"
    }
   ],
   "source": [
    "sum(maria.values())/len(maria)"
   ]
  },
  {
   "cell_type": "code",
   "execution_count": 95,
   "id": "ed62133d",
   "metadata": {},
   "outputs": [
    {
     "data": {
      "text/plain": [
       "89.25"
      ]
     },
     "execution_count": 95,
     "metadata": {},
     "output_type": "execute_result"
    }
   ],
   "source": [
    "maria = {'korean' :94, 'english' : 91, 'mathematics' : 89, 'science' : 83}\n",
    "average = sum({values for values in maria.values()}) / len({values for values in maria.values()})\n",
    "average"
   ]
  },
  {
   "cell_type": "code",
   "execution_count": 97,
   "id": "1e960d0d",
   "metadata": {},
   "outputs": [
    {
     "data": {
      "text/plain": [
       "89.25"
      ]
     },
     "execution_count": 97,
     "metadata": {},
     "output_type": "execute_result"
    }
   ],
   "source": [
    "import numpy as np\n",
    "np.mean(list(maria.values()))"
   ]
  },
  {
   "cell_type": "markdown",
   "id": "c8edd858",
   "metadata": {},
   "source": [
    "#### - 세트(set)"
   ]
  },
  {
   "cell_type": "code",
   "execution_count": 102,
   "id": "359cbb21",
   "metadata": {},
   "outputs": [
    {
     "data": {
      "text/plain": [
       "set"
      ]
     },
     "execution_count": 102,
     "metadata": {},
     "output_type": "execute_result"
    }
   ],
   "source": [
    "type({1,2,3,4})"
   ]
  },
  {
   "cell_type": "code",
   "execution_count": 103,
   "id": "86e32ac5",
   "metadata": {},
   "outputs": [
    {
     "data": {
      "text/plain": [
       "{1, 2, 3, 4, 5, 6, 7}"
      ]
     },
     "execution_count": 103,
     "metadata": {},
     "output_type": "execute_result"
    }
   ],
   "source": [
    "set([1,2,3,4,5,5,5,6,6,6,7])"
   ]
  },
  {
   "cell_type": "code",
   "execution_count": 104,
   "id": "43ac1ab8",
   "metadata": {},
   "outputs": [
    {
     "data": {
      "text/plain": [
       "{1, 2, 3}"
      ]
     },
     "execution_count": 104,
     "metadata": {},
     "output_type": "execute_result"
    }
   ],
   "source": [
    "{2,2,1,2,3,3,}"
   ]
  },
  {
   "cell_type": "code",
   "execution_count": 105,
   "id": "e8a85b6b",
   "metadata": {},
   "outputs": [],
   "source": [
    "a = {1,2,3,4,5}\n",
    "b = {3,4,5,6,7,8}"
   ]
  },
  {
   "cell_type": "code",
   "execution_count": 106,
   "id": "8ae57acf",
   "metadata": {},
   "outputs": [
    {
     "data": {
      "text/plain": [
       "{1, 2, 3, 4, 5, 6, 7, 8}"
      ]
     },
     "execution_count": 106,
     "metadata": {},
     "output_type": "execute_result"
    }
   ],
   "source": [
    "a.union(b)"
   ]
  },
  {
   "cell_type": "code",
   "execution_count": 108,
   "id": "20217004",
   "metadata": {},
   "outputs": [
    {
     "data": {
      "text/plain": [
       "{1, 2, 3, 4, 5}"
      ]
     },
     "execution_count": 108,
     "metadata": {},
     "output_type": "execute_result"
    }
   ],
   "source": [
    "a"
   ]
  },
  {
   "cell_type": "code",
   "execution_count": 109,
   "id": "720a586e",
   "metadata": {},
   "outputs": [
    {
     "data": {
      "text/plain": [
       "{1, 2, 3, 4, 5, 6, 7, 8}"
      ]
     },
     "execution_count": 109,
     "metadata": {},
     "output_type": "execute_result"
    }
   ],
   "source": [
    "a | b"
   ]
  },
  {
   "cell_type": "code",
   "execution_count": 110,
   "id": "4638815a",
   "metadata": {},
   "outputs": [
    {
     "data": {
      "text/plain": [
       "{3, 4, 5}"
      ]
     },
     "execution_count": 110,
     "metadata": {},
     "output_type": "execute_result"
    }
   ],
   "source": [
    "a.intersection(b)"
   ]
  },
  {
   "cell_type": "code",
   "execution_count": 111,
   "id": "9e9066fe",
   "metadata": {},
   "outputs": [
    {
     "data": {
      "text/plain": [
       "{3, 4, 5}"
      ]
     },
     "execution_count": 111,
     "metadata": {},
     "output_type": "execute_result"
    }
   ],
   "source": [
    "a & b"
   ]
  },
  {
   "cell_type": "code",
   "execution_count": 112,
   "id": "5c29a9d1",
   "metadata": {},
   "outputs": [
    {
     "data": {
      "text/plain": [
       "{1, 2, 3, 4, 5}"
      ]
     },
     "execution_count": 112,
     "metadata": {},
     "output_type": "execute_result"
    }
   ],
   "source": [
    "c = a.copy()\n",
    "c"
   ]
  },
  {
   "cell_type": "code",
   "execution_count": 113,
   "id": "a855765d",
   "metadata": {},
   "outputs": [],
   "source": [
    "c |= b"
   ]
  },
  {
   "cell_type": "code",
   "execution_count": 114,
   "id": "8ef11f8f",
   "metadata": {},
   "outputs": [
    {
     "data": {
      "text/plain": [
       "{1, 2, 3, 4, 5, 6, 7, 8}"
      ]
     },
     "execution_count": 114,
     "metadata": {},
     "output_type": "execute_result"
    }
   ],
   "source": [
    "c"
   ]
  },
  {
   "cell_type": "code",
   "execution_count": 116,
   "id": "678bf7f3",
   "metadata": {},
   "outputs": [
    {
     "data": {
      "text/plain": [
       "{1, 2, 3, 4, 5}"
      ]
     },
     "execution_count": 116,
     "metadata": {},
     "output_type": "execute_result"
    }
   ],
   "source": [
    "d = a.copy()\n",
    "d"
   ]
  },
  {
   "cell_type": "code",
   "execution_count": 117,
   "id": "ba593828",
   "metadata": {},
   "outputs": [
    {
     "data": {
      "text/plain": [
       "{3, 4, 5}"
      ]
     },
     "execution_count": 117,
     "metadata": {},
     "output_type": "execute_result"
    }
   ],
   "source": [
    "d &= b\n",
    "d"
   ]
  },
  {
   "cell_type": "code",
   "execution_count": 118,
   "id": "a9382446",
   "metadata": {},
   "outputs": [
    {
     "data": {
      "text/plain": [
       "True"
      ]
     },
     "execution_count": 118,
     "metadata": {},
     "output_type": "execute_result"
    }
   ],
   "source": [
    "a_set = { 1,2,3,4,5}\n",
    "{1,2,3}.issubset(a_set)"
   ]
  },
  {
   "cell_type": "code",
   "execution_count": 119,
   "id": "5201e463",
   "metadata": {},
   "outputs": [
    {
     "data": {
      "text/plain": [
       "True"
      ]
     },
     "execution_count": 119,
     "metadata": {},
     "output_type": "execute_result"
    }
   ],
   "source": [
    "a_set = { 1,2,3,4,5}\n",
    "{1,2,3,4,5}.issubset(a_set)"
   ]
  },
  {
   "cell_type": "code",
   "execution_count": 120,
   "id": "178fa5a3",
   "metadata": {},
   "outputs": [
    {
     "data": {
      "text/plain": [
       "True"
      ]
     },
     "execution_count": 120,
     "metadata": {},
     "output_type": "execute_result"
    }
   ],
   "source": [
    "a_set.issuperset({1,2,3})"
   ]
  },
  {
   "cell_type": "code",
   "execution_count": 121,
   "id": "483edd79",
   "metadata": {},
   "outputs": [
    {
     "data": {
      "text/plain": [
       "True"
      ]
     },
     "execution_count": 121,
     "metadata": {},
     "output_type": "execute_result"
    }
   ],
   "source": [
    "{1,2,3} == {3,2,1}"
   ]
  },
  {
   "cell_type": "markdown",
   "id": "8a80c54a",
   "metadata": {},
   "source": [
    "#### - 공배수 구하기"
   ]
  },
  {
   "cell_type": "code",
   "execution_count": 122,
   "id": "67e10e4d",
   "metadata": {},
   "outputs": [
    {
     "name": "stdout",
     "output_type": "stream",
     "text": [
      "{75, 45, 15, 90, 60, 30}\n"
     ]
    }
   ],
   "source": [
    "a = {i for i in range(1, 101) if i % 3 == 0}\n",
    "b = {i for i in range(1, 101) if i % 5 == 0}\n",
    "print(a & b)\n"
   ]
  },
  {
   "cell_type": "code",
   "execution_count": 124,
   "id": "8cc3028d",
   "metadata": {},
   "outputs": [
    {
     "name": "stdout",
     "output_type": "stream",
     "text": [
      "{75, 45, 15, 90, 60, 30}\n"
     ]
    }
   ],
   "source": [
    "a = set(i for i in range(1, 101) if i%3 == 0)\n",
    "b = set(i for i in range(1, 101) if i%5 == 0)\n",
    "print(a & b)"
   ]
  },
  {
   "cell_type": "markdown",
   "id": "003115bd",
   "metadata": {},
   "source": [
    "#### - 파일"
   ]
  },
  {
   "cell_type": "code",
   "execution_count": 125,
   "id": "d9b03429",
   "metadata": {},
   "outputs": [],
   "source": [
    "file = open(\"hello.txt\", 'w')\n",
    "file.write(\"Hellow World!!!\")\n",
    "file.close()"
   ]
  },
  {
   "cell_type": "code",
   "execution_count": 126,
   "id": "8c0aae9c",
   "metadata": {},
   "outputs": [
    {
     "name": "stdout",
     "output_type": "stream",
     "text": [
      "Hellow World!!!\n"
     ]
    }
   ],
   "source": [
    "file = open(\"hello.txt\", \"r\")\n",
    "s = file.read()\n",
    "print(s)\n",
    "file.close()"
   ]
  },
  {
   "cell_type": "code",
   "execution_count": 127,
   "id": "55e9a43c",
   "metadata": {},
   "outputs": [
    {
     "name": "stdout",
     "output_type": "stream",
     "text": [
      "Hellow World!!!\n"
     ]
    }
   ],
   "source": [
    "with open(\"hello.txt\", \"r\") as file:\n",
    "    s = file.read()\n",
    "    print(s)"
   ]
  },
  {
   "cell_type": "code",
   "execution_count": 131,
   "id": "34b91ddf",
   "metadata": {},
   "outputs": [],
   "source": [
    "with open(\"hello.txt\", 'w') as file:\n",
    "    for i in range(3):\n",
    "        file.write(\"Hello World!!! {0}\\n\".format(i))"
   ]
  },
  {
   "cell_type": "code",
   "execution_count": 9,
   "id": "edbfb0f6",
   "metadata": {},
   "outputs": [],
   "source": [
    "lines = [\"안녕하세요\\n\", \"저는\\n\", \"홍길동입니다\\n\"]\n",
    "\n",
    "with open(\"hello.txt\", 'w', encoding='utf-8') as file:\n",
    "    file.writelines(lines)"
   ]
  },
  {
   "cell_type": "code",
   "execution_count": 10,
   "id": "56250e34",
   "metadata": {},
   "outputs": [
    {
     "name": "stdout",
     "output_type": "stream",
     "text": [
      "['안녕하세요\\n', '저는\\n', '홍길동입니다\\n']\n"
     ]
    }
   ],
   "source": [
    "with open(\"hello.txt\", 'r', encoding='utf-8') as file:\n",
    "    lines = file.readlines()\n",
    "    print(lines)"
   ]
  },
  {
   "cell_type": "code",
   "execution_count": null,
   "id": "afa08521",
   "metadata": {},
   "outputs": [],
   "source": []
  }
 ],
 "metadata": {
  "kernelspec": {
   "display_name": "Python 3",
   "language": "python",
   "name": "python3"
  },
  "language_info": {
   "codemirror_mode": {
    "name": "ipython",
    "version": 3
   },
   "file_extension": ".py",
   "mimetype": "text/x-python",
   "name": "python",
   "nbconvert_exporter": "python",
   "pygments_lexer": "ipython3",
   "version": "3.8.8"
  }
 },
 "nbformat": 4,
 "nbformat_minor": 5
}
