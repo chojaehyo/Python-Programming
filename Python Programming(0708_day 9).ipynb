{
 "cells": [
  {
   "cell_type": "markdown",
   "id": "2df84415",
   "metadata": {},
   "source": [
    "#### - 시뮬레이션(상하좌우)"
   ]
  },
  {
   "cell_type": "code",
   "execution_count": 2,
   "id": "9f2693be",
   "metadata": {},
   "outputs": [
    {
     "name": "stdout",
     "output_type": "stream",
     "text": [
      "5\n",
      "R R R U D D\n",
      "3 4\n"
     ]
    }
   ],
   "source": [
    "n = int(input())\n",
    "plan = input().split()\n",
    "\n",
    "r = c = 1\n",
    "\n",
    "d = {'R': (0, 1), 'U': (-1, 0), 'L': (0, -1), 'D': (1,0)}\n",
    "\n",
    "for p in plan:\n",
    "    nr = r + d[p][0]\n",
    "    nc = c + d[p][1]\n",
    "\n",
    "    if 1 <= nr <= n and 1 <= nc <= n:\n",
    "        r = nr\n",
    "        c = nc\n",
    "\n",
    "print(r, c)"
   ]
  },
  {
   "cell_type": "code",
   "execution_count": 3,
   "id": "5f0f81b5",
   "metadata": {},
   "outputs": [
    {
     "name": "stdout",
     "output_type": "stream",
     "text": [
      "5\n",
      "R R R U D D\n",
      "3 4\n"
     ]
    }
   ],
   "source": [
    "dx = [0, 0, -1, 1]\n",
    "dy = [-1, 1, 0, 0]\n",
    "sx = 1\n",
    "sy = 1\n",
    "\n",
    "N = int(input())\n",
    "move = input().split()\n",
    "\n",
    "for i in range(len(move)):\n",
    "    if move[i] == 'L': move[i] = 0\n",
    "    elif move[i] == 'R': move[i] = 1\n",
    "    elif move[i] == 'U': move[i] = 2\n",
    "    else: move[i] = 3\n",
    "        \n",
    "for i in range(len(move)):\n",
    "    if 1 <= sx + dx[move[i]] <= N and 1 <= sy + dy[move[i]] <= N:\n",
    "        sx += dx[move[i]]\n",
    "        sy += dy[move[i]]\n",
    "print(sx, sy)\n"
   ]
  },
  {
   "cell_type": "markdown",
   "id": "51a99f4b",
   "metadata": {},
   "source": [
    "#### - 문자열 재정렬"
   ]
  },
  {
   "cell_type": "code",
   "execution_count": 4,
   "id": "1165acf6",
   "metadata": {},
   "outputs": [
    {
     "name": "stdout",
     "output_type": "stream",
     "text": [
      "AGES1SD4\n",
      "ADEGSS5\n"
     ]
    }
   ],
   "source": [
    "l = input()\n",
    "\n",
    "x = []\n",
    "total = 0\n",
    "\n",
    "for val in l:\n",
    "    if val.isalpha():\n",
    "        x.append(val)\n",
    "    else:\n",
    "        total += int(val)\n",
    "\n",
    "x.sort()\n",
    "if total != 0 : x.append(str(total))\n",
    "print(''.join(x))"
   ]
  },
  {
   "cell_type": "code",
   "execution_count": 5,
   "id": "1c58c37f",
   "metadata": {},
   "outputs": [
    {
     "name": "stdout",
     "output_type": "stream",
     "text": [
      "AGES1SD4\n",
      "ADEGSS5\n"
     ]
    }
   ],
   "source": [
    "inp = input()\n",
    "strings = []\n",
    "num = 0\n",
    "\n",
    "for i in inp:\n",
    "    if 48 <= ord(i) <= 57:\n",
    "        num+=int(i)\n",
    "    else:\n",
    "        strings.append(i)\n",
    "strings.sort()\n",
    "if num != 0:\n",
    "    strings.append(str(num))\n",
    "o_p = \"\".join(strings)\n",
    "print(o_p)"
   ]
  },
  {
   "cell_type": "markdown",
   "id": "54f147ae",
   "metadata": {},
   "source": [
    "#### - 팩토리얼 구현(재귀 함수)"
   ]
  },
  {
   "cell_type": "code",
   "execution_count": 9,
   "id": "b94192d6",
   "metadata": {},
   "outputs": [
    {
     "data": {
      "text/plain": [
       "6"
      ]
     },
     "execution_count": 9,
     "metadata": {},
     "output_type": "execute_result"
    }
   ],
   "source": [
    "def factorial(n):\n",
    "    if n == 1:\n",
    "        return 1\n",
    "    return factorial(n-1) * n\n",
    "factorial(3)"
   ]
  },
  {
   "cell_type": "markdown",
   "id": "3e0ae462",
   "metadata": {},
   "source": [
    "#### - 두 배열의 원소 교체"
   ]
  },
  {
   "cell_type": "code",
   "execution_count": 7,
   "id": "31b19212",
   "metadata": {},
   "outputs": [
    {
     "name": "stdout",
     "output_type": "stream",
     "text": [
      "5 3\n",
      "1 2 5 4 3\n",
      "5 5 6 6 5\n",
      "26\n"
     ]
    }
   ],
   "source": [
    "n, k = map(int, input().split())\n",
    "a = list(map(int, input().split()))\n",
    "b = list(map(int, input().split()))\n",
    "\n",
    "a.sort()\n",
    "b.sort(reverse=True)\n",
    "\n",
    "for i in range(k):\n",
    "    if a[i] < b[i]:\n",
    "        a[i],b[i] = b[i],a[i]\n",
    "        \n",
    "    else:\n",
    "        break\n",
    "        \n",
    "print(sum(a))"
   ]
  },
  {
   "cell_type": "code",
   "execution_count": 6,
   "id": "d35ba613",
   "metadata": {},
   "outputs": [
    {
     "name": "stdout",
     "output_type": "stream",
     "text": [
      "5 3\n",
      "1 2 5 4 3\n",
      "5 5 6 6 5\n",
      "26\n"
     ]
    }
   ],
   "source": [
    "N, K = map(int, input().split()) \n",
    "A = list(map(int, input().split()))\n",
    "B = list(map(int, input().split()))\n",
    "\n",
    "for i in range(K):\n",
    "    min_idx = A.index(min(A))\n",
    "    max_idx = B.index(max(B))\n",
    "    \n",
    "    if min(A) < max(B):\n",
    "        A[min_idx], B[max_idx] = B[max_idx], A[min_idx]\n",
    "\n",
    "print(sum(A))"
   ]
  },
  {
   "cell_type": "markdown",
   "id": "b8aeaf92",
   "metadata": {},
   "source": [
    "#### - bisect (참고)"
   ]
  },
  {
   "cell_type": "code",
   "execution_count": 10,
   "id": "a08160a3",
   "metadata": {},
   "outputs": [],
   "source": [
    "import bisect"
   ]
  },
  {
   "cell_type": "code",
   "execution_count": 11,
   "id": "75024e32",
   "metadata": {},
   "outputs": [
    {
     "data": {
      "text/plain": [
       "3"
      ]
     },
     "execution_count": 11,
     "metadata": {},
     "output_type": "execute_result"
    }
   ],
   "source": [
    "a = [1, 2, 2, 3, 4, 7]\n",
    "bisect.bisect(a, 2)"
   ]
  },
  {
   "cell_type": "code",
   "execution_count": 13,
   "id": "39427a35",
   "metadata": {},
   "outputs": [],
   "source": [
    "from bisect import bisect_left, bisect_right"
   ]
  },
  {
   "cell_type": "code",
   "execution_count": 14,
   "id": "1999afb8",
   "metadata": {},
   "outputs": [
    {
     "data": {
      "text/plain": [
       "3"
      ]
     },
     "execution_count": 14,
     "metadata": {},
     "output_type": "execute_result"
    }
   ],
   "source": [
    "bisect_right(a, 2) # 정렬된 순서를 유지하면서 배열 a에 x를 삽입할 가장 오른족 인덱스를 반환"
   ]
  },
  {
   "cell_type": "code",
   "execution_count": 15,
   "id": "4ae6c13b",
   "metadata": {},
   "outputs": [
    {
     "data": {
      "text/plain": [
       "1"
      ]
     },
     "execution_count": 15,
     "metadata": {},
     "output_type": "execute_result"
    }
   ],
   "source": [
    "bisect_left(a, 2) # 정렬된 순서를 유지하면서 배열 a에 x를 삽입할 가장 왼쪽 인덱스를 반환"
   ]
  },
  {
   "cell_type": "code",
   "execution_count": 16,
   "id": "eda37860",
   "metadata": {},
   "outputs": [],
   "source": [
    "bisect.insort(a, 2)"
   ]
  },
  {
   "cell_type": "code",
   "execution_count": 17,
   "id": "c20b500d",
   "metadata": {},
   "outputs": [
    {
     "data": {
      "text/plain": [
       "[1, 2, 2, 2, 3, 4, 7]"
      ]
     },
     "execution_count": 17,
     "metadata": {},
     "output_type": "execute_result"
    }
   ],
   "source": [
    "a"
   ]
  },
  {
   "cell_type": "markdown",
   "id": "de68d869",
   "metadata": {},
   "source": [
    "#### - 값이 특정 범위에 속하는 데이터 개수 구하기(예제)"
   ]
  },
  {
   "cell_type": "code",
   "execution_count": 18,
   "id": "0dc9953e",
   "metadata": {},
   "outputs": [
    {
     "name": "stdout",
     "output_type": "stream",
     "text": [
      "2\n",
      "6\n"
     ]
    }
   ],
   "source": [
    "from bisect import bisect_left, bisect_right\n",
    "\n",
    "# 값이 [left_value, right_value]인 데이터의 개수를 반환하는 함수\n",
    "def count_by_range(a, left_value, right_value):\n",
    "    right_index = bisect_right(a, right_value)\n",
    "    left_index = bisect_left(a, left_value)\n",
    "    return right_index - left_index\n",
    "\n",
    "# 배열 선언\n",
    "a = [1, 2, 3, 3, 3, 3, 4, 4, 8, 9] \n",
    "\n",
    "# 값이 4인 데이터 개수 출력\n",
    "print(count_by_range(a, 4, 4))\n",
    "\n",
    "# 값이 [-1, 3] 범위에 있는 데이터 개수 출력\n",
    "print(count_by_range(a, -1, 3))"
   ]
  },
  {
   "cell_type": "markdown",
   "id": "e6c57e65",
   "metadata": {},
   "source": [
    "#### - 정렬된 배열에서 특정 수의 개수 구하기"
   ]
  },
  {
   "cell_type": "code",
   "execution_count": 20,
   "id": "088f2d3c",
   "metadata": {},
   "outputs": [
    {
     "name": "stdout",
     "output_type": "stream",
     "text": [
      "7 5\n",
      "1 1 2 2 2 2 3\n",
      "-1\n"
     ]
    }
   ],
   "source": [
    "import bisect\n",
    "N, x = map(int, input().split())\n",
    "\n",
    "A = list(map(int, input().split()))\n",
    "\n",
    "val = bisect.bisect_right(A, x) - bisect.bisect_left(A, x)\n",
    "if val == 0: print(-1)\n",
    "else: print(val)"
   ]
  }
 ],
 "metadata": {
  "kernelspec": {
   "display_name": "Python 3",
   "language": "python",
   "name": "python3"
  },
  "language_info": {
   "codemirror_mode": {
    "name": "ipython",
    "version": 3
   },
   "file_extension": ".py",
   "mimetype": "text/x-python",
   "name": "python",
   "nbconvert_exporter": "python",
   "pygments_lexer": "ipython3",
   "version": "3.8.8"
  }
 },
 "nbformat": 4,
 "nbformat_minor": 5
}
