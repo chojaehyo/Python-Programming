{
 "cells": [
  {
   "cell_type": "markdown",
   "id": "66d9ffba",
   "metadata": {},
   "source": [
    "#### - 파일"
   ]
  },
  {
   "cell_type": "code",
   "execution_count": 1,
   "id": "dc2f83ae",
   "metadata": {},
   "outputs": [],
   "source": [
    "lines = [\"안녕하세요\\n\", \"오늘은\\n\", \"즐거운 금요일입니다\\n\"]"
   ]
  },
  {
   "cell_type": "code",
   "execution_count": 4,
   "id": "7e9c1058",
   "metadata": {},
   "outputs": [],
   "source": [
    "with open(\"hello.txt\", 'w', encoding=\"utf-8\") as file:\n",
    "    file.writelines(lines)"
   ]
  },
  {
   "cell_type": "code",
   "execution_count": 5,
   "id": "d4655c43",
   "metadata": {},
   "outputs": [
    {
     "name": "stdout",
     "output_type": "stream",
     "text": [
      "['안녕하세요\\n', '오늘은\\n', '즐거운 금요일입니다\\n']\n"
     ]
    }
   ],
   "source": [
    "with open(\"hello.txt\", 'r', encoding=\"utf-8\") as file:\n",
    "    lines = file.readlines()\n",
    "    print(lines)"
   ]
  },
  {
   "cell_type": "code",
   "execution_count": 7,
   "id": "b3935e74",
   "metadata": {},
   "outputs": [
    {
     "name": "stdout",
     "output_type": "stream",
     "text": [
      "안녕하세요\n",
      "오늘은\n",
      "즐거운 금요일입니다\n",
      "\n"
     ]
    }
   ],
   "source": [
    "with open(\"hello.txt\", 'r', encoding=\"utf-8\") as file:\n",
    "    line = None\n",
    "    while line != '':\n",
    "        line = file.readline()\n",
    "        print(line.strip('\\n'))"
   ]
  },
  {
   "cell_type": "code",
   "execution_count": 15,
   "id": "856d69e9",
   "metadata": {},
   "outputs": [
    {
     "name": "stdout",
     "output_type": "stream",
     "text": [
      "['안녕하세요..']\n"
     ]
    }
   ],
   "source": [
    "with open(\"test.txt\", 'r') as file:\n",
    "    lines = file.readlines()\n",
    "    print(lines)"
   ]
  },
  {
   "cell_type": "code",
   "execution_count": 17,
   "id": "fbfe69cc",
   "metadata": {},
   "outputs": [
    {
     "name": "stdout",
     "output_type": "stream",
     "text": [
      "['안녕하세요..']\n"
     ]
    }
   ],
   "source": [
    "with open(\"test2.txt\", 'r', encoding=\"utf-8\") as file:\n",
    "    lines = file.readlines()\n",
    "    print(lines)"
   ]
  },
  {
   "cell_type": "code",
   "execution_count": 18,
   "id": "872676b3",
   "metadata": {},
   "outputs": [],
   "source": [
    "import pickle\n",
    "\n",
    "name = \"james\"\n",
    "age = 17\n",
    "address = \"서울시 서초구 반포동\"\n",
    "scores = {\"korean\" : 90, \"english\" : 95, \"mathmatics\" : 85, \"science\" : 82}"
   ]
  },
  {
   "cell_type": "code",
   "execution_count": 19,
   "id": "75857fdf",
   "metadata": {},
   "outputs": [],
   "source": [
    "with open('james.p', \"wb\") as file:\n",
    "    pickle.dump(name, file)\n",
    "    pickle.dump(age, file)\n",
    "    pickle.dump(address, file)\n",
    "    pickle.dump(scores, file)"
   ]
  },
  {
   "cell_type": "code",
   "execution_count": null,
   "id": "f57b215e",
   "metadata": {},
   "outputs": [],
   "source": [
    "#이후에 저장된 객체를 불러옴"
   ]
  },
  {
   "cell_type": "code",
   "execution_count": null,
   "id": "6034cbe2",
   "metadata": {},
   "outputs": [],
   "source": [
    "import pickle\n",
    "\n",
    "with open(\"james.p\", \"rb\") as file:\n",
    "    name = pickle.load(file)\n",
    "    age = pickle.load(file)\n",
    "    address = pickle.load(file)\n",
    "    scores = pickle.load(file)\n",
    "    print(name)\n",
    "    print(age)\n",
    "    print(address)\n",
    "    print(scores)"
   ]
  },
  {
   "cell_type": "markdown",
   "id": "24bba080",
   "metadata": {},
   "source": [
    "#### - 파일에서 10자 이하인 단어 개수 세기"
   ]
  },
  {
   "cell_type": "code",
   "execution_count": 1,
   "id": "626c16ea",
   "metadata": {},
   "outputs": [],
   "source": [
    "with open(\"words.txt\", \"r\") as file:\n",
    "    lines = file.readlines()"
   ]
  },
  {
   "cell_type": "code",
   "execution_count": 2,
   "id": "392ebd2b",
   "metadata": {},
   "outputs": [
    {
     "data": {
      "text/plain": [
       "['anonymously\\n',\n",
       " 'compatibility\\n',\n",
       " 'dashboard\\n',\n",
       " 'experience\\n',\n",
       " 'photography\\n',\n",
       " 'spotlight\\n',\n",
       " 'warehouse']"
      ]
     },
     "execution_count": 2,
     "metadata": {},
     "output_type": "execute_result"
    }
   ],
   "source": [
    "lines"
   ]
  },
  {
   "cell_type": "code",
   "execution_count": 3,
   "id": "765a2040",
   "metadata": {},
   "outputs": [
    {
     "name": "stdout",
     "output_type": "stream",
     "text": [
      "4\n"
     ]
    }
   ],
   "source": [
    "count = 0\n",
    "for line in lines:\n",
    "    if len(line.strip(\"\\n\")) <= 10:\n",
    "        count += 1\n",
    "print(count)        "
   ]
  },
  {
   "cell_type": "markdown",
   "id": "4476db1c",
   "metadata": {},
   "source": [
    "#### - 특정 문자가 들어있는 단어 찾기"
   ]
  },
  {
   "cell_type": "code",
   "execution_count": 4,
   "id": "f2223c82",
   "metadata": {},
   "outputs": [],
   "source": [
    "with open(\"words2.txt\", \"r\") as file:\n",
    "    line = file.readline()"
   ]
  },
  {
   "cell_type": "code",
   "execution_count": 5,
   "id": "1e6b2b35",
   "metadata": {},
   "outputs": [
    {
     "data": {
      "text/plain": [
       "'Fortunately, however, for the reputation of Asteroid B-612, a Turkish dictator made a law that his subjects, under pain of death, should change to European costume. So in 1920 the astronomer gave his demonstration all over again, dressed with impressive style and elegance. And this time everybody accepted his report.'"
      ]
     },
     "execution_count": 5,
     "metadata": {},
     "output_type": "execute_result"
    }
   ],
   "source": [
    "line"
   ]
  },
  {
   "cell_type": "code",
   "execution_count": 10,
   "id": "8cf0adff",
   "metadata": {},
   "outputs": [],
   "source": [
    "with open(\"words2.txt\", \"r\") as file:\n",
    "    line = file.read()"
   ]
  },
  {
   "cell_type": "code",
   "execution_count": 11,
   "id": "37bc3e8a",
   "metadata": {},
   "outputs": [
    {
     "data": {
      "text/plain": [
       "'Fortunately, however, for the reputation of Asteroid B-612, a Turkish dictator made a law that his subjects, under pain of death, should change to European costume. So in 1920 the astronomer gave his demonstration all over again, dressed with impressive style and elegance. And this time everybody accepted his report.'"
      ]
     },
     "execution_count": 11,
     "metadata": {},
     "output_type": "execute_result"
    }
   ],
   "source": [
    "line"
   ]
  },
  {
   "cell_type": "code",
   "execution_count": 13,
   "id": "5d48c6af",
   "metadata": {},
   "outputs": [],
   "source": [
    "words = line.split()"
   ]
  },
  {
   "cell_type": "code",
   "execution_count": 16,
   "id": "ba86c67a",
   "metadata": {},
   "outputs": [
    {
     "name": "stdout",
     "output_type": "stream",
     "text": [
      "dictator\n",
      "subjects\n",
      "change\n",
      "costume\n",
      "elegance\n",
      "accepted\n"
     ]
    }
   ],
   "source": [
    "for word in words:\n",
    "    word = word.strip(',.')\n",
    "    if 'c' in word:\n",
    "        print(word)"
   ]
  },
  {
   "cell_type": "code",
   "execution_count": null,
   "id": "5e88dd69",
   "metadata": {},
   "outputs": [],
   "source": [
    "# 최종\n",
    "with open(\"words2.txt\", \"r\") as file:\n",
    "    line = file.readline()\n",
    "    \n",
    "words = line.split()\n",
    "for word in words:\n",
    "    word = word.strip(',.')\n",
    "    if 'c' in word:\n",
    "        print(word)"
   ]
  },
  {
   "cell_type": "code",
   "execution_count": 18,
   "id": "de60dfd3",
   "metadata": {},
   "outputs": [
    {
     "name": "stdout",
     "output_type": "stream",
     "text": [
      "dictator\n",
      "subjects\n",
      "change\n",
      "costume\n",
      "elegance\n",
      "accepted\n"
     ]
    }
   ],
   "source": [
    "# 최종 (메서드체이닝)\n",
    "with open(\"words2.txt\", \"r\") as file:\n",
    "    for word in file.readline().split():\n",
    "        if 'c' in word.strip(',.'):\n",
    "            print(word.strip(',.'))"
   ]
  },
  {
   "cell_type": "markdown",
   "id": "a3480c18",
   "metadata": {},
   "source": [
    "#### - 함수"
   ]
  },
  {
   "cell_type": "code",
   "execution_count": 19,
   "id": "40585b04",
   "metadata": {},
   "outputs": [],
   "source": [
    "def hello():\n",
    "    print(\"hello world\")"
   ]
  },
  {
   "cell_type": "code",
   "execution_count": 20,
   "id": "8273ed72",
   "metadata": {},
   "outputs": [
    {
     "name": "stdout",
     "output_type": "stream",
     "text": [
      "hello world\n"
     ]
    }
   ],
   "source": [
    "hello()"
   ]
  },
  {
   "cell_type": "code",
   "execution_count": 23,
   "id": "cab0cebc",
   "metadata": {},
   "outputs": [],
   "source": [
    "def add(a, b):\n",
    "    c = a + b\n",
    "    return c"
   ]
  },
  {
   "cell_type": "code",
   "execution_count": 24,
   "id": "2c7b1591",
   "metadata": {},
   "outputs": [
    {
     "data": {
      "text/plain": [
       "30"
      ]
     },
     "execution_count": 24,
     "metadata": {},
     "output_type": "execute_result"
    }
   ],
   "source": [
    "add(10, 20)"
   ]
  },
  {
   "cell_type": "code",
   "execution_count": 25,
   "id": "e8f01dfc",
   "metadata": {},
   "outputs": [
    {
     "data": {
      "text/plain": [
       "30"
      ]
     },
     "execution_count": 25,
     "metadata": {},
     "output_type": "execute_result"
    }
   ],
   "source": [
    "x = add(10, 20)\n",
    "x"
   ]
  },
  {
   "cell_type": "code",
   "execution_count": 27,
   "id": "fd6cb976",
   "metadata": {},
   "outputs": [
    {
     "name": "stdout",
     "output_type": "stream",
     "text": [
      "30\n"
     ]
    }
   ],
   "source": [
    "print(add(10, 20))"
   ]
  },
  {
   "cell_type": "code",
   "execution_count": 30,
   "id": "b21f9152",
   "metadata": {},
   "outputs": [],
   "source": [
    "def add_sub(a, b):\n",
    "    x = a+b\n",
    "    y = a-b\n",
    "    return x, y"
   ]
  },
  {
   "cell_type": "code",
   "execution_count": 32,
   "id": "0f423fc3",
   "metadata": {},
   "outputs": [],
   "source": [
    "result1, result2 = add_sub(10, 20)"
   ]
  },
  {
   "cell_type": "code",
   "execution_count": 33,
   "id": "8c5a4c25",
   "metadata": {},
   "outputs": [
    {
     "data": {
      "text/plain": [
       "(30, -10)"
      ]
     },
     "execution_count": 33,
     "metadata": {},
     "output_type": "execute_result"
    }
   ],
   "source": [
    "result1, result2"
   ]
  },
  {
   "cell_type": "markdown",
   "id": "fd271270",
   "metadata": {},
   "source": [
    "#### - 몫과 나머지를 구하기"
   ]
  },
  {
   "cell_type": "code",
   "execution_count": 34,
   "id": "50137961",
   "metadata": {},
   "outputs": [
    {
     "name": "stdout",
     "output_type": "stream",
     "text": [
      "몫: 3, 나머지: 1\n"
     ]
    }
   ],
   "source": [
    "x = 10\n",
    "y = 3\n",
    "\n",
    "def get_quotient_remainder(a, b):\n",
    "    return a // b, a % b\n",
    "\n",
    "quotient, remainder = get_quotient_remainder(x, y)\n",
    "\n",
    "print('몫: {0}, 나머지: {1}'.format(quotient, remainder))"
   ]
  },
  {
   "cell_type": "code",
   "execution_count": 35,
   "id": "b7c41a91",
   "metadata": {},
   "outputs": [
    {
     "data": {
      "text/plain": [
       "3.3333333333333335"
      ]
     },
     "execution_count": 35,
     "metadata": {},
     "output_type": "execute_result"
    }
   ],
   "source": [
    "10/3"
   ]
  },
  {
   "cell_type": "code",
   "execution_count": 36,
   "id": "396a4b18",
   "metadata": {},
   "outputs": [
    {
     "data": {
      "text/plain": [
       "3"
      ]
     },
     "execution_count": 36,
     "metadata": {},
     "output_type": "execute_result"
    }
   ],
   "source": [
    "10//3"
   ]
  },
  {
   "cell_type": "code",
   "execution_count": 37,
   "id": "d3e5b53e",
   "metadata": {},
   "outputs": [
    {
     "data": {
      "text/plain": [
       "1"
      ]
     },
     "execution_count": 37,
     "metadata": {},
     "output_type": "execute_result"
    }
   ],
   "source": [
    "10%3"
   ]
  },
  {
   "cell_type": "markdown",
   "id": "2324da59",
   "metadata": {},
   "source": [
    "#### - 사칙 연산"
   ]
  },
  {
   "cell_type": "code",
   "execution_count": 38,
   "id": "31f41b1b",
   "metadata": {},
   "outputs": [
    {
     "name": "stdout",
     "output_type": "stream",
     "text": [
      "20 20\n",
      "덧셈:40, 뺄셈:0, 곱셈:400, 나눗셈:1.0\n"
     ]
    }
   ],
   "source": [
    "x, y = map(int, input().split())\n",
    "\n",
    "def calc(a, b):\n",
    "    return a+b, a-b, a*b, a/b\n",
    "\n",
    "a, s, m, d = calc(x,y)\n",
    "\n",
    "print(\"덧셈:{0}, 뺄셈:{1}, 곱셈:{2}, 나눗셈:{3}\".format(a, s, m, d))"
   ]
  },
  {
   "cell_type": "markdown",
   "id": "53734424",
   "metadata": {},
   "source": [
    "#### - I have a dream 연설문 단어 빈도수 계산 예제"
   ]
  },
  {
   "cell_type": "code",
   "execution_count": 56,
   "id": "c1d83c9e",
   "metadata": {},
   "outputs": [],
   "source": [
    "#ihaveadream 파일 열기\n",
    "with open(\"ihaveadream.txt\", \"r\") as f1:\n",
    "    text1 = f1.read()\n",
    "\n",
    "dreams = text1.replace(\"\\n\\n\", \" \").lower().split()\n",
    "\n",
    "#stopwords 파일 열기\n",
    "with open(\"stopwords.txt\", \"r\") as f2:\n",
    "    text2 = f2.read()\n",
    "\n",
    "stops = text2.replace(\"\\n\\n\", \" \").lower().split()"
   ]
  },
  {
   "cell_type": "markdown",
   "id": "d9cabe8b",
   "metadata": {},
   "source": [
    "#### - 불필요한 문자들 제거"
   ]
  },
  {
   "cell_type": "code",
   "execution_count": 86,
   "id": "767d7c60",
   "metadata": {},
   "outputs": [
    {
     "name": "stdout",
     "output_type": "stream",
     "text": [
      "164\n"
     ]
    }
   ],
   "source": [
    "count = 0\n",
    "for word in dreams:\n",
    "    if \".\" in word:\n",
    "        count+=1\n",
    "        #print(word)\n",
    "    elif \",\" in word:\n",
    "        count+=1\n",
    "    elif '\"' in word:\n",
    "        count+=1\n",
    "    elif \" \" in word:\n",
    "        count+=1\n",
    "    elif \"*\" in word:\n",
    "        count+=1\n",
    "print(count)        "
   ]
  },
  {
   "cell_type": "code",
   "execution_count": 90,
   "id": "c5a506ad",
   "metadata": {},
   "outputs": [],
   "source": [
    "dreams = [word.strip('., *12?\"') for word in dreams]"
   ]
  },
  {
   "cell_type": "code",
   "execution_count": 91,
   "id": "d8d1d631",
   "metadata": {},
   "outputs": [
    {
     "name": "stdout",
     "output_type": "stream",
     "text": [
      "0\n"
     ]
    }
   ],
   "source": [
    "count = 0\n",
    "for word in dreams:\n",
    "    if \".\" in word:\n",
    "        count+=1\n",
    "        print(word)\n",
    "    elif \",\" in word:\n",
    "        count+=1\n",
    "        print(word)\n",
    "    elif '\"' in word:\n",
    "        count+=1\n",
    "        print(word)\n",
    "    elif \" \" in word:\n",
    "        count+=1\n",
    "        print(word)\n",
    "    elif \"*\" in word:\n",
    "        count+=1\n",
    "        print(word)\n",
    "print(count) "
   ]
  },
  {
   "cell_type": "markdown",
   "id": "f4aa9f99",
   "metadata": {},
   "source": [
    "#### - 단어를 키로 하고, 빈도수를 값으로 하는 딕셔너리 만들기"
   ]
  },
  {
   "cell_type": "markdown",
   "id": "b1954318",
   "metadata": {},
   "source": [
    "#### option 1"
   ]
  },
  {
   "cell_type": "code",
   "execution_count": 92,
   "id": "1b6cf8e7",
   "metadata": {},
   "outputs": [],
   "source": [
    "d = {}\n",
    "for word in dreams:\n",
    "    if word not in stops:\n",
    "        if word not in d:\n",
    "            d[word] = 1\n",
    "        else:\n",
    "            d[word] += 1                "
   ]
  },
  {
   "cell_type": "markdown",
   "id": "a74edb99",
   "metadata": {},
   "source": [
    "#### option 2"
   ]
  },
  {
   "cell_type": "code",
   "execution_count": null,
   "id": "537e9db8",
   "metadata": {},
   "outputs": [],
   "source": [
    "d = {}\n",
    "for word in dreams:\n",
    "    if word not in stops:\n",
    "        d[word] = d.get(word, 0)  + 1"
   ]
  },
  {
   "cell_type": "markdown",
   "id": "79f470c1",
   "metadata": {},
   "source": [
    "#### - sort"
   ]
  },
  {
   "cell_type": "code",
   "execution_count": 66,
   "id": "10336232",
   "metadata": {},
   "outputs": [
    {
     "data": {
      "text/plain": [
       "['eeeee', 'dddd', 'bbb', 'ccc', 'aa']"
      ]
     },
     "execution_count": 66,
     "metadata": {},
     "output_type": "execute_result"
    }
   ],
   "source": [
    "l = [\"aa\", \"bbb\", \"ccc\", \"dddd\", \"eeeee\"]\n",
    "l.sort(key=len, reverse=True)\n"
   ]
  },
  {
   "cell_type": "code",
   "execution_count": 67,
   "id": "4f3ec837",
   "metadata": {},
   "outputs": [
    {
     "data": {
      "text/plain": [
       "['eeeee', 'dddd', 'bbb', 'ccc', 'aa']"
      ]
     },
     "execution_count": 67,
     "metadata": {},
     "output_type": "execute_result"
    }
   ],
   "source": [
    "l = [\"aa\", \"bbb\", \"ccc\", \"dddd\", \"eeeee\"]\n",
    "sorted(l, key=len, reverse=True)"
   ]
  },
  {
   "cell_type": "code",
   "execution_count": 69,
   "id": "5a1068d3",
   "metadata": {},
   "outputs": [
    {
     "data": {
      "text/plain": [
       "[85, 90, 100]"
      ]
     },
     "execution_count": 69,
     "metadata": {},
     "output_type": "execute_result"
    }
   ],
   "source": [
    "score = {\"영희\" : 90, \"철수\" : 100, \"개똥\": 85}"
   ]
  },
  {
   "cell_type": "code",
   "execution_count": 70,
   "id": "930ed5b9",
   "metadata": {},
   "outputs": [],
   "source": [
    "def dict_sort(x):\n",
    "    return x[1]"
   ]
  },
  {
   "cell_type": "code",
   "execution_count": 72,
   "id": "56296a7f",
   "metadata": {},
   "outputs": [
    {
     "data": {
      "text/plain": [
       "[('철수', 100), ('영희', 90), ('개똥', 85)]"
      ]
     },
     "execution_count": 72,
     "metadata": {},
     "output_type": "execute_result"
    }
   ],
   "source": [
    "sorted(score.items(), key=dict_sort, reverse=True)"
   ]
  },
  {
   "cell_type": "code",
   "execution_count": 102,
   "id": "ca68221e",
   "metadata": {},
   "outputs": [
    {
     "data": {
      "text/plain": [
       "[('freedom', 20),\n",
       " ('negro', 13),\n",
       " ('day', 12),\n",
       " ('dream', 11),\n",
       " ('ring', 11),\n",
       " ('nation', 10),\n",
       " ('satisfied', 8),\n",
       " ('able', 8),\n",
       " ('justice', 7),\n",
       " ('white', 6),\n",
       " ('free', 5),\n",
       " ('check', 5),\n",
       " ('america', 5),\n",
       " ('time', 5),\n",
       " ('children', 5),\n",
       " ('faith', 5),\n",
       " ('american', 4),\n",
       " ('hope', 4),\n",
       " ('hundred', 4),\n",
       " ('land', 4),\n",
       " ('black', 4),\n",
       " ('mississippi', 4),\n",
       " ('mountain', 4),\n",
       " ('join', 3),\n",
       " ('stand', 3),\n",
       " ('injustice', 3),\n",
       " (\"we've\", 3),\n",
       " ('words', 3),\n",
       " ('note', 3),\n",
       " ('rights', 3),\n",
       " ('people', 3),\n",
       " ('rise', 3),\n",
       " ('valley', 3),\n",
       " ('brotherhood', 3),\n",
       " (\"god's\", 3),\n",
       " ('sweltering', 3),\n",
       " ('--', 3),\n",
       " ('alabama', 3),\n",
       " ('georgia', 3),\n",
       " ('little', 3),\n",
       " ('sing', 3),\n",
       " ('last!', 3),\n",
       " ('am', 2),\n",
       " ('history', 2),\n",
       " ('slaves', 2),\n",
       " ('life', 2),\n",
       " ('segregation', 2),\n",
       " ('cash', 2),\n",
       " ('promissory', 2),\n",
       " ('liberty', 2),\n",
       " ('color', 2),\n",
       " ('insufficient', 2),\n",
       " ('funds', 2),\n",
       " ('refuse', 2),\n",
       " ('believe', 2),\n",
       " ('urgency', 2),\n",
       " ('racial', 2),\n",
       " (\"negro's\", 2),\n",
       " ('content', 2),\n",
       " ('continue', 2),\n",
       " ('struggle', 2),\n",
       " ('dignity', 2),\n",
       " ('allow', 2),\n",
       " ('creative', 2),\n",
       " ('physical', 2),\n",
       " ('force', 2),\n",
       " ('brothers', 2),\n",
       " ('realize', 2),\n",
       " ('destiny', 2),\n",
       " ('walk', 2),\n",
       " ('police', 2),\n",
       " ('brutality', 2),\n",
       " ('cities', 2),\n",
       " ('vote', 2),\n",
       " ('york', 2),\n",
       " ('mighty', 2),\n",
       " ('jail', 2),\n",
       " ('quest', 2),\n",
       " ('suffering', 2),\n",
       " ('south', 2),\n",
       " ('knowing', 2),\n",
       " ('despair', 2),\n",
       " ('live', 2),\n",
       " ('true', 2),\n",
       " ('sons', 2),\n",
       " ('former', 2),\n",
       " ('heat', 2),\n",
       " ('today!', 2),\n",
       " ('boys', 2),\n",
       " ('girls', 2),\n",
       " ('hands', 2),\n",
       " ('hill', 2),\n",
       " ('stone', 2),\n",
       " ('thee', 2),\n",
       " ('mountainside', 2),\n",
       " ('happy', 1),\n",
       " ('demonstration', 1),\n",
       " ('five', 1),\n",
       " ('score', 1),\n",
       " ('ago', 1),\n",
       " ('symbolic', 1),\n",
       " ('shadow', 1),\n",
       " ('signed', 1),\n",
       " ('emancipation', 1),\n",
       " ('proclamation', 1),\n",
       " ('momentous', 1),\n",
       " ('decree', 1),\n",
       " ('beacon', 1),\n",
       " ('light', 1),\n",
       " ('millions', 1),\n",
       " ('seared', 1),\n",
       " ('flames', 1),\n",
       " ('withering', 1),\n",
       " ('joyous', 1),\n",
       " ('daybreak', 1),\n",
       " ('night', 1),\n",
       " ('captivity', 1),\n",
       " ('sadly', 1),\n",
       " ('crippled', 1),\n",
       " ('manacles', 1),\n",
       " ('chains', 1),\n",
       " ('discrimination', 1),\n",
       " ('lives', 1),\n",
       " ('lonely', 1),\n",
       " ('island', 1),\n",
       " ('poverty', 1),\n",
       " ('midst', 1),\n",
       " ('vast', 1),\n",
       " ('ocean', 1),\n",
       " ('material', 1),\n",
       " ('prosperity', 1),\n",
       " ('languished', 1),\n",
       " ('corners', 1),\n",
       " ('society', 1),\n",
       " ('exile', 1),\n",
       " ('own', 1),\n",
       " ('dramatize', 1),\n",
       " ('shameful', 1),\n",
       " ('condition', 1),\n",
       " ('sense', 1),\n",
       " (\"nation's\", 1),\n",
       " ('capital', 1),\n",
       " ('architects', 1),\n",
       " ('republic', 1),\n",
       " ('wrote', 1),\n",
       " ('magnificent', 1),\n",
       " ('constitution', 1),\n",
       " ('declaration', 1),\n",
       " ('independence', 1),\n",
       " ('signing', 1),\n",
       " ('fall', 1),\n",
       " ('heir', 1),\n",
       " ('promise', 1),\n",
       " ('yes', 1),\n",
       " ('guaranteed', 1),\n",
       " ('unalienable', 1),\n",
       " ('pursuit', 1),\n",
       " ('happiness', 1),\n",
       " ('obvious', 1),\n",
       " ('defaulted', 1),\n",
       " ('insofar', 1),\n",
       " ('citizens', 1),\n",
       " ('concerned', 1),\n",
       " ('instead', 1),\n",
       " ('honoring', 1),\n",
       " ('sacred', 1),\n",
       " ('obligation', 1),\n",
       " ('bad', 1),\n",
       " ('marked', 1),\n",
       " ('bank', 1),\n",
       " ('bankrupt', 1),\n",
       " ('vaults', 1),\n",
       " ('opportunity', 1),\n",
       " ('demand', 1),\n",
       " ('riches', 1),\n",
       " ('security', 1),\n",
       " ('hallowed', 1),\n",
       " ('spot', 1),\n",
       " ('remind', 1),\n",
       " ('fierce', 1),\n",
       " ('engage', 1),\n",
       " ('luxury', 1),\n",
       " ('cooling', 1),\n",
       " ('tranquilizing', 1),\n",
       " ('drug', 1),\n",
       " ('gradualism', 1),\n",
       " ('real', 1),\n",
       " ('promises', 1),\n",
       " ('democracy', 1),\n",
       " ('dark', 1),\n",
       " ('desolate', 1),\n",
       " ('sunlit', 1),\n",
       " ('path', 1),\n",
       " ('lift', 1),\n",
       " ('quicksands', 1),\n",
       " ('solid', 1),\n",
       " ('rock', 1),\n",
       " ('reality', 1),\n",
       " ('fatal', 1),\n",
       " ('overlook', 1),\n",
       " ('moment', 1),\n",
       " ('summer', 1),\n",
       " ('legitimate', 1),\n",
       " ('discontent', 1),\n",
       " ('pass', 1),\n",
       " ('invigorating', 1),\n",
       " ('autumn', 1),\n",
       " ('equality', 1),\n",
       " ('nineteen', 1),\n",
       " ('sixty-three', 1),\n",
       " ('beginning', 1),\n",
       " ('blow', 1),\n",
       " ('steam', 1),\n",
       " ('rude', 1),\n",
       " ('awakening', 1),\n",
       " ('returns', 1),\n",
       " ('business', 1),\n",
       " ('usual', 1),\n",
       " ('neither', 1),\n",
       " ('rest', 1),\n",
       " ('nor', 1),\n",
       " ('tranquility', 1),\n",
       " ('granted', 1),\n",
       " ('citizenship', 1),\n",
       " ('whirlwinds', 1),\n",
       " ('revolt', 1),\n",
       " ('shake', 1),\n",
       " ('foundations', 1),\n",
       " ('bright', 1),\n",
       " ('emerges', 1),\n",
       " ('warm', 1),\n",
       " ('threshold', 1),\n",
       " ('leads', 1),\n",
       " ('palace', 1),\n",
       " ('justice:', 1),\n",
       " ('process', 1),\n",
       " ('gaining', 1),\n",
       " ('rightful', 1),\n",
       " ('guilty', 1),\n",
       " ('wrongful', 1),\n",
       " ('deeds', 1),\n",
       " ('seek', 1),\n",
       " ('satisfy', 1),\n",
       " ('thirst', 1),\n",
       " ('drinking', 1),\n",
       " ('cup', 1),\n",
       " ('bitterness', 1),\n",
       " ('hatred', 1),\n",
       " ('forever', 1),\n",
       " ('conduct', 1),\n",
       " ('plane', 1),\n",
       " ('discipline', 1),\n",
       " ('protest', 1),\n",
       " ('degenerate', 1),\n",
       " ('violence', 1),\n",
       " ('majestic', 1),\n",
       " ('heights', 1),\n",
       " ('meeting', 1),\n",
       " ('soul', 1),\n",
       " ('marvelous', 1),\n",
       " ('militancy', 1),\n",
       " ('engulfed', 1),\n",
       " ('community', 1),\n",
       " ('lead', 1),\n",
       " ('distrust', 1),\n",
       " ('evidenced', 1),\n",
       " ('presence', 1),\n",
       " ('tied', 1),\n",
       " ('inextricably', 1),\n",
       " ('bound', 1),\n",
       " ('pledge', 1),\n",
       " ('march', 1),\n",
       " ('ahead', 1),\n",
       " ('devotees', 1),\n",
       " ('civil', 1),\n",
       " ('victim', 1),\n",
       " ('unspeakable', 1),\n",
       " ('horrors', 1),\n",
       " ('bodies', 1),\n",
       " ('heavy', 1),\n",
       " ('fatigue', 1),\n",
       " ('travel', 1),\n",
       " ('gain', 1),\n",
       " ('lodging', 1),\n",
       " ('motels', 1),\n",
       " ('highways', 1),\n",
       " ('hotels', 1),\n",
       " ('basic', 1),\n",
       " ('mobility', 1),\n",
       " ('ghetto', 1),\n",
       " ('larger', 1),\n",
       " ('stripped', 1),\n",
       " ('self-hood', 1),\n",
       " ('robbed', 1),\n",
       " ('signs', 1),\n",
       " ('stating:', 1),\n",
       " ('whites', 1),\n",
       " ('believes', 1),\n",
       " ('rolls', 1),\n",
       " ('waters', 1),\n",
       " ('righteousness', 1),\n",
       " ('stream', 1),\n",
       " ('unmindful', 1),\n",
       " ('trials', 1),\n",
       " ('tribulations', 1),\n",
       " ('fresh', 1),\n",
       " ('narrow', 1),\n",
       " ('cells', 1),\n",
       " ('left', 1),\n",
       " ('battered', 1),\n",
       " ('storms', 1),\n",
       " ('persecution', 1),\n",
       " ('staggered', 1),\n",
       " ('winds', 1),\n",
       " ('veterans', 1),\n",
       " ('unearned', 1),\n",
       " ('redemptive', 1),\n",
       " ('carolina', 1),\n",
       " ('louisiana', 1),\n",
       " ('slums', 1),\n",
       " ('ghettos', 1),\n",
       " ('northern', 1),\n",
       " ('somehow', 1),\n",
       " ('situation', 1),\n",
       " ('changed', 1),\n",
       " ('wallow', 1),\n",
       " ('friends', 1),\n",
       " ('difficulties', 1),\n",
       " ('tomorrow', 1),\n",
       " ('deeply', 1),\n",
       " ('rooted', 1),\n",
       " ('meaning', 1),\n",
       " ('creed:', 1),\n",
       " ('hold', 1),\n",
       " ('truths', 1),\n",
       " ('self-evident', 1),\n",
       " ('created', 1),\n",
       " ('equal', 1),\n",
       " ('red', 1),\n",
       " ('hills', 1),\n",
       " ('slave', 1),\n",
       " ('owners', 1),\n",
       " ('sit', 1),\n",
       " ('table', 1),\n",
       " ('oppression', 1),\n",
       " ('transformed', 1),\n",
       " ('oasis', 1),\n",
       " ('judged', 1),\n",
       " ('skin', 1),\n",
       " ('character', 1),\n",
       " ('vicious', 1),\n",
       " ('racists', 1),\n",
       " ('governor', 1),\n",
       " ('lips', 1),\n",
       " ('dripping', 1),\n",
       " ('interposition', 1),\n",
       " ('nullification', 1),\n",
       " ('sisters', 1),\n",
       " ('exalted', 1),\n",
       " ('low', 1),\n",
       " ('rough', 1),\n",
       " ('plain', 1),\n",
       " ('crooked', 1),\n",
       " ('straight;', 1),\n",
       " ('glory', 1),\n",
       " ('lord', 1),\n",
       " ('revealed', 1),\n",
       " ('flesh', 1),\n",
       " ('hew', 1),\n",
       " ('transform', 1),\n",
       " ('jangling', 1),\n",
       " ('discords', 1),\n",
       " ('beautiful', 1),\n",
       " ('symphony', 1),\n",
       " ('pray', 1),\n",
       " ('meaning:', 1),\n",
       " ('country', 1),\n",
       " (\"'tis\", 1),\n",
       " ('sweet', 1),\n",
       " ('fathers', 1),\n",
       " ('died', 1),\n",
       " (\"pilgrim's\", 1),\n",
       " ('pride', 1),\n",
       " ('ring!', 1),\n",
       " ('prodigious', 1),\n",
       " ('hilltops', 1),\n",
       " ('hampshire', 1),\n",
       " ('mountains', 1),\n",
       " ('heightening', 1),\n",
       " ('alleghenies', 1),\n",
       " ('pennsylvania', 1),\n",
       " ('snow-capped', 1),\n",
       " ('rockies', 1),\n",
       " ('colorado', 1),\n",
       " ('curvaceous', 1),\n",
       " ('slopes', 1),\n",
       " ('california', 1),\n",
       " ('that:', 1),\n",
       " ('lookout', 1),\n",
       " ('tennessee', 1),\n",
       " ('molehill', 1),\n",
       " ('happens', 1),\n",
       " ('village', 1),\n",
       " ('hamlet', 1),\n",
       " ('city', 1),\n",
       " ('speed', 1),\n",
       " ('jews', 1),\n",
       " ('gentiles', 1),\n",
       " ('protestants', 1),\n",
       " ('catholics', 1),\n",
       " ('spiritual:', 1),\n",
       " ('thank', 1),\n",
       " ('god', 1),\n",
       " ('almighty', 1)]"
      ]
     },
     "execution_count": 102,
     "metadata": {},
     "output_type": "execute_result"
    }
   ],
   "source": [
    "sorted(d.items(), key=dict_sort, reverse=True)"
   ]
  },
  {
   "cell_type": "markdown",
   "id": "2188c311",
   "metadata": {},
   "source": [
    "#### option 1"
   ]
  },
  {
   "cell_type": "code",
   "execution_count": 123,
   "id": "9139b76e",
   "metadata": {},
   "outputs": [],
   "source": [
    "def WordCount():\n",
    "    #ihaveadream 파일 열기\n",
    "    with open(\"ihaveadream.txt\", \"r\") as f1:\n",
    "        text1 = f1.read()\n",
    "\n",
    "    dreams = text1.replace(\"\\n\\n\", \" \").lower().split()\n",
    "\n",
    "    #stopwords 파일 열기\n",
    "    with open(\"stopwords.txt\", \"r\") as f2:\n",
    "        text2 = f2.read()\n",
    "\n",
    "    stops = text2.replace(\"\\n\\n\", \" \").lower().split()\n",
    "    \n",
    "    #불필요한 문자 제거하기\n",
    "    dreams = [word.strip('., *12?\"') for word in dreams]\n",
    "    \n",
    "    d = {}\n",
    "    for word in dreams:\n",
    "        if word not in stops:\n",
    "            if word not in d:\n",
    "                d[word] = 1\n",
    "            else:\n",
    "                d[word] += 1    \n",
    "    \n",
    "    return d #dictionary 형으로 반납"
   ]
  },
  {
   "cell_type": "code",
   "execution_count": 124,
   "id": "04f674de",
   "metadata": {},
   "outputs": [],
   "source": [
    "def majorityCnt(d):\n",
    "    #빈도수가 큰값 순으로 사전 정렬\n",
    "    d = sorted(d.items(), key=dict_sort, reverse=True)\n",
    "\n",
    "    #가장 큰 키\n",
    "    return d[0][0]"
   ]
  },
  {
   "cell_type": "code",
   "execution_count": 126,
   "id": "1487120b",
   "metadata": {},
   "outputs": [],
   "source": [
    "result = WordCount()\n",
    "# result를 파일로 저장\n",
    "with open(\"result.txt\", \"w\") as f3:\n",
    "    f3.write(str(result))\n",
    "    \n",
    "majorityKey = majorityCnt(result)"
   ]
  },
  {
   "cell_type": "code",
   "execution_count": 121,
   "id": "4796b1be",
   "metadata": {},
   "outputs": [
    {
     "data": {
      "text/plain": [
       "'freedom'"
      ]
     },
     "execution_count": 121,
     "metadata": {},
     "output_type": "execute_result"
    }
   ],
   "source": [
    "majorityKey"
   ]
  },
  {
   "cell_type": "markdown",
   "id": "9b5588ea",
   "metadata": {},
   "source": [
    "#### option2"
   ]
  },
  {
   "cell_type": "code",
   "execution_count": null,
   "id": "e128b1be",
   "metadata": {},
   "outputs": [],
   "source": [
    "def WordCount():\n",
    "    with open ('ihaveadream.txt','r') as file :\n",
    "        contents = file.read()\n",
    "    contents= [i.strip(',.\\'\\\"').lower() for i in contents.split()]\n",
    "    \n",
    "    with open('stopwords.txt','r') as file2:\n",
    "        stopwords = [i.strip('\\n').lower() for i in file2.readlines() if i!='\\n']\n",
    "    \n",
    "    f_contents = [i for i in contents if i not in stopwords]\n",
    "    s=set(f_contents)\n",
    "    d={}\n",
    "    for i in s:\n",
    "        d[i]=f_contents.count(i)\n",
    "    return d\n",
    "\n",
    "def majorityCnt(d):\n",
    "    temp = sorted(d.items(), key = lambda x:x[1], reverse=True)\n",
    "    return temp[0][0]\n",
    "\n",
    "with open ('result.txt','w') as file:\n",
    "    file.write(majorityCnt(WordCount()))\n",
    "\n",
    "with open ('result.txt','r') as file:\n",
    "    print(file.read())"
   ]
  },
  {
   "cell_type": "markdown",
   "id": "e5c895d1",
   "metadata": {},
   "source": [
    "#### option 3"
   ]
  },
  {
   "cell_type": "code",
   "execution_count": null,
   "id": "c50f6580",
   "metadata": {},
   "outputs": [],
   "source": [
    "import collections\n",
    "\n",
    "def wordCount():\n",
    "    with open(\"ihaveadream.txt\", \"r\") as f:\n",
    "        content = [word.strip('.,*:\\\"\\';-').lower() for word in f.read().split()]\n",
    "    with open(\"stopwords.txt\", \"r\") as f:\n",
    "        stopwords = f.read().strip(\"\\n\").split()\n",
    "\n",
    "    keywords = [word for word in content if word not in stopwords]\n",
    "    return dict(collections.Counter(keywords))\n",
    "\n",
    "def majorityCnt(dic):\n",
    "    return dict(sorted(d.items(), key = lambda x:x[1], reverse=True))\n",
    "\n",
    "dic = majorityCount(wordCount())\n",
    "print(dic)\n",
    "\n",
    "with open(\"result.txt\", \"w\") as file:\n",
    "    for key, value in dic.items():\n",
    "        file.write(f\"{key}: {value}\\n\")\n"
   ]
  },
  {
   "cell_type": "markdown",
   "id": "2b8a95c0",
   "metadata": {},
   "source": [
    "#### - 가장 높은 점수 만드는 함수 만들기"
   ]
  },
  {
   "cell_type": "code",
   "execution_count": 129,
   "id": "6b6cf933",
   "metadata": {},
   "outputs": [
    {
     "name": "stdout",
     "output_type": "stream",
     "text": [
      "<class 'tuple'>\n",
      "높은 점수: 100\n",
      "<class 'tuple'>\n",
      "높은 점수: 91\n"
     ]
    }
   ],
   "source": [
    "kor, eng, math, sci = 100,86, 81, 91\n",
    "\n",
    "def get_max_score(*args):\n",
    "    return max(args)\n",
    "\n",
    "max_score = get_max_score(kor, eng, math, sci)\n",
    "print('높은 점수:', max_score)\n",
    "\n",
    "max_score = get_max_score(eng, sci)\n",
    "print('높은 점수:', max_score)"
   ]
  },
  {
   "cell_type": "code",
   "execution_count": 131,
   "id": "fe4bf406",
   "metadata": {},
   "outputs": [
    {
     "name": "stdout",
     "output_type": "stream",
     "text": [
      "높은점수 : 100\n",
      "높은점수 : 91\n"
     ]
    }
   ],
   "source": [
    "def get_max_score(kor=0, eng=0, math=0, sci=0):\n",
    "    return max(kor, eng, math, sci)\n",
    "\n",
    "kor, eng, math, sci = 100,86,81,91\n",
    "print('높은점수 :',get_max_score(kor, eng))\n",
    "print('높은점수 :',get_max_score(math, sci))"
   ]
  },
  {
   "cell_type": "code",
   "execution_count": 133,
   "id": "21e80e4b",
   "metadata": {},
   "outputs": [
    {
     "name": "stdout",
     "output_type": "stream",
     "text": [
      "90 80 70 100\n",
      "낮은 점수: 70.00, 높은 점수: 100.00, 평균 점수: 85.00\n"
     ]
    }
   ],
   "source": [
    "korean, english, mathematics, science = map(int, input().split())\n",
    "\n",
    "def get_min_max_score(*args):\n",
    "    return min(args), max(args)\n",
    "\n",
    "def get_average(**kwargs):\n",
    "    return sum(kwargs.values())/len(kwargs)\n",
    "\n",
    "min_score, max_score = get_min_max_score(korean, english, mathematics, science)\n",
    "average_score = get_average(korean=korean, english=english, mathematics=mathematics, science=science)\n",
    "print(\"낮은 점수: {0:.2f}, 높은 점수: {1:.2f}, 평균 점수: {2:.2f}\"\n",
    "      .format(min_score, max_score, average_score))\n",
    "\n",
    "min_score, max_score = get_min_max_score(english, science)\n",
    "average_score = get_average(english=english, science=science)\n",
    "print(\"낮은 점수: {0:.2f}, 높은 점수: {1:.2f}, 평균 점수: {2:.2f}\".format(min_score, max_score, average_score))"
   ]
  },
  {
   "cell_type": "markdown",
   "id": "27d7265c",
   "metadata": {},
   "source": [
    "#### - 이미지 파일만 가져오기"
   ]
  },
  {
   "cell_type": "code",
   "execution_count": 143,
   "id": "86052358",
   "metadata": {},
   "outputs": [
    {
     "data": {
      "text/plain": [
       "['1.png', '10.png', '2.jpg', '3.png']"
      ]
     },
     "execution_count": 143,
     "metadata": {},
     "output_type": "execute_result"
    }
   ],
   "source": [
    "files = ['font', '1.png', '10.png', '11.gif', '2.jpg', '3.png', 'table.xslx', 'spec.docx']\n",
    "list(filter(lambda x:x.find('.jpg') != -1 or x.find('.png') != -1, files ))"
   ]
  },
  {
   "cell_type": "code",
   "execution_count": 144,
   "id": "c63793bb",
   "metadata": {},
   "outputs": [
    {
     "name": "stdout",
     "output_type": "stream",
     "text": [
      "['1.png', '10.png', '2.jpg', '3.png']\n"
     ]
    }
   ],
   "source": [
    "files = ['font', '1.png', '10.png', '11.gif', '2.jpg', '3.png', 'table.xslx', 'spec.docx']\n",
    "print(list(filter(lambda x: x[-3:] == 'jpg' or x[-3:] == 'png', files)))"
   ]
  },
  {
   "cell_type": "code",
   "execution_count": 145,
   "id": "c73017e2",
   "metadata": {},
   "outputs": [
    {
     "name": "stdout",
     "output_type": "stream",
     "text": [
      "['1.png', '10.png', '2.jpg', '3.png']\n"
     ]
    }
   ],
   "source": [
    "print(list(filter(lambda x: '.png' in x or '.jpg' in x, files)))"
   ]
  },
  {
   "cell_type": "code",
   "execution_count": 146,
   "id": "311b0c1f",
   "metadata": {},
   "outputs": [
    {
     "name": "stdout",
     "output_type": "stream",
     "text": [
      "['1.png', '10.jpg', '2.jpg', '3.png']\n"
     ]
    }
   ],
   "source": [
    "files = ['font','1.png', '10.jpg','11.gif','2.jpg','3.png', 'table.xlsx','spec.docx']\n",
    "print(list(filter(lambda x: x[-3:] in 'png,jpg',files)))\n"
   ]
  }
 ],
 "metadata": {
  "kernelspec": {
   "display_name": "Python 3",
   "language": "python",
   "name": "python3"
  },
  "language_info": {
   "codemirror_mode": {
    "name": "ipython",
    "version": 3
   },
   "file_extension": ".py",
   "mimetype": "text/x-python",
   "name": "python",
   "nbconvert_exporter": "python",
   "pygments_lexer": "ipython3",
   "version": "3.8.8"
  }
 },
 "nbformat": 4,
 "nbformat_minor": 5
}
